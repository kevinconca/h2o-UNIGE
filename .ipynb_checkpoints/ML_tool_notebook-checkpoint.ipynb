{
 "cells": [
  {
   "cell_type": "markdown",
   "metadata": {},
   "source": [
    "# Machine Learning: Machine Learning tools\n",
    "### Unige\n",
    "\n",
    "#### Kevin Raymundo Serrano Vilchis \n",
    "#### S4539351\n",
    "\n",
    "![logo](https://www.h2o.ai/wp-content/uploads/2017/11/H2O_platform_logo-1.png)"
   ]
  },
  {
   "cell_type": "markdown",
   "metadata": {},
   "source": [
    "### Overview\n",
    "\n",
    "* Introduction H2O\n",
    "* Architechture\n",
    "* Setup H2O\n",
    "* FLOW API (live 'coding')\n",
    "* H2O using Python (live coding)\n",
    "* Summary"
   ]
  },
  {
   "cell_type": "markdown",
   "metadata": {},
   "source": [
    "## Introduction\n",
    "\n",
    "![Community](https://www.h2o.ai/wp-content/uploads/2016/09/community_hero-1.png)\n",
    "\n",
    "* Founded in 2011 in Silicon Valley (formerly 0xdata)\n",
    "* #1 Open-source machine learning platform for enterprises\n",
    "* The company receives fees for providing customer service and customized extensions.\n",
    "* Platform:\n",
    "    * **Parallelized and distributed algorithms** to make the most out of **multithreaded** systems.\n",
    "    * Easy to use and adopt\n",
    "    * **Big data** + Better models = Better predictions\n",
    "* Comcast, Macy's, Cisco, PayPal"
   ]
  },
  {
   "cell_type": "markdown",
   "metadata": {},
   "source": [
    "## Architecture\n",
    "\n",
    "![Software](https://www.h2o.ai/wp-content/uploads/2017/11/h2o-architecture-1.png)\n",
    "\n",
    "* Distributed file systems + stream processing platforms + APIs\n",
    "* Data stays on DFS, on the API side we get a pointer to the distributed dataset.\n",
    "* Also possible to actually import it into workspace using data frames.\n",
    "* They can also interface between other packages like caffe, tensorflow, etc..."
   ]
  },
  {
   "cell_type": "markdown",
   "metadata": {},
   "source": [
    "## Setup\n",
    "\n",
    "Prerequisites to launch H2O and Flow\n",
    "* 64 bit Java 6+\n",
    "\n",
    "### Flow users\n",
    "1. Download and unpack h2o zip file from website [link](http://h2o-release.s3.amazonaws.com/h2o/rel-wheeler/4/index.html)\n",
    "1. Run the following command from terminal \n",
    "```\n",
    "cd ~/Downloads\n",
    "unzip h2o-3.16.0.4.zip\n",
    "cd h2o-3.16.0.4\n",
    "java -jar h2o.jar\n",
    "```\n",
    "1. Point your browser to http://localhost:54321\n",
    "\n",
    "### Python users\n",
    "1. Prerequisite: Python installed (versions 2.7.x, 3.5.x, 3.6.x)\n",
    "1. Using pip, install dependencies and h2o\n",
    "```python\n",
    "pip install requests\n",
    "pip install tabulate\n",
    "pip install scikit-learn\n",
    "pip install colorama\n",
    "pip install future\n",
    "pip install h2o\n",
    "```\n",
    "1. Check that library is properly installed:\n",
    "```python\n",
    "import h2o\n",
    "h2o.init(nthreads = -1)\n",
    "```\n",
    "\n",
    "### R users\n",
    "1. Prerequisite: R installed (version 3 or later)\n",
    "1. Install from cran\n",
    "```R\n",
    " # Download packages that H2O depends on.\n",
    "pkgs <- c(\"RCurl\",\"jsonlite\")\n",
    "for (pkg in pkgs) {\n",
    "if (! (pkg %in% rownames(installed.packages()))) { install.packages(pkg) }\n",
    "}\n",
    "# Download, install and initialize the H2O package for R.\n",
    "install.packages(\"h2o\", type=\"source\", repos=\"http://h2o-release.s3.amazonaws.com/h2o/rel-wheeler/4/R\")\n",
    "```\n",
    "1. Check that library is properly installed:\n",
    "```R\n",
    "library(h2o)\n",
    "h2o.init(nthreads = -1)\n",
    "```"
   ]
  },
  {
   "cell_type": "code",
   "execution_count": null,
   "metadata": {
    "scrolled": true
   },
   "outputs": [],
   "source": [
    "library(h2o)\n",
    "h2o.init(nthreads = -1)"
   ]
  },
  {
   "cell_type": "markdown",
   "metadata": {},
   "source": [
    "## Small demo with MNIST dataset\n",
    "![MNIST](http://i.ytimg.com/vi/0QI3xgXuB-Q/hqdefault.jpg)"
   ]
  },
  {
   "cell_type": "code",
   "execution_count": null,
   "metadata": {},
   "outputs": [],
   "source": [
    "# This step takes a few seconds bc we have to download the data from the internet...\n",
    "train_file <- \"https://h2o-public-test-data.s3.amazonaws.com/bigdata/laptop/mnist/train.csv.gz\"\n",
    "test_file <- \"https://h2o-public-test-data.s3.amazonaws.com/bigdata/laptop/mnist/test.csv.gz\"\n",
    "train <- h2o.importFile(train_file)\n",
    "test <- h2o.importFile(test_file)"
   ]
  },
  {
   "cell_type": "code",
   "execution_count": null,
   "metadata": {},
   "outputs": [],
   "source": [
    "y <- \"C785\"                    # response column: digits 0-9\n",
    "x <- setdiff(names(train), y)  # vector of predictor column names"
   ]
  },
  {
   "cell_type": "code",
   "execution_count": null,
   "metadata": {},
   "outputs": [],
   "source": [
    "# Since the response is encoded as integers, we need to tell H2O that\n",
    "# the response is in fact a categorical/factor column.  Otherwise, it \n",
    "# will train a regression model instead of multiclass classification.\n",
    "train[,y] <- as.factor(train[,y])\n",
    "test[,y] <- as.factor(test[,y])"
   ]
  },
  {
   "cell_type": "code",
   "execution_count": null,
   "metadata": {},
   "outputs": [],
   "source": [
    "dl_fit1 <- h2o.deeplearning(x = x,\n",
    "                            y = y,\n",
    "                            training_frame = train,\n",
    "                            model_id = \"dl_fit1\",\n",
    "                            hidden = c(20,20),\n",
    "                            seed = 1)"
   ]
  },
  {
   "cell_type": "code",
   "execution_count": null,
   "metadata": {},
   "outputs": [],
   "source": [
    "dl_fit3 <- h2o.deeplearning(x = x,\n",
    "                            y = y,\n",
    "                            training_frame = train,\n",
    "                            validation_frame = test,\n",
    "                            model_id = \"dl_fit3\",\n",
    "                            epochs = 50,\n",
    "                            sparse = TRUE,\n",
    "                            hidden = c(128,64),\n",
    "                            activation = \"RectifierWithDropout\",\n",
    "                            input_dropout_ratio = 0.2,\n",
    "                            hidden_dropout_ratios = c(0.3, 0.2),\n",
    "                            # nfolds = 0,                            #used for early stopping\n",
    "                            score_interval = 1,                    #used for early stopping\n",
    "                            stopping_rounds = 5,                   #used for early stopping\n",
    "                            stopping_metric = \"misclassification\", #used for early stopping\n",
    "                            stopping_tolerance = 1e-3,             #used for early stopping\n",
    "                            seed = 1)"
   ]
  },
  {
   "cell_type": "code",
   "execution_count": null,
   "metadata": {},
   "outputs": [],
   "source": [
    "h2o.scoreHistory(dl_fit3)"
   ]
  },
  {
   "cell_type": "code",
   "execution_count": null,
   "metadata": {},
   "outputs": [],
   "source": [
    "h2o.confusionMatrix(dl_fit3)"
   ]
  },
  {
   "cell_type": "code",
   "execution_count": null,
   "metadata": {},
   "outputs": [],
   "source": [
    "plot(dl_fit3, \n",
    "     timestep = \"epochs\", \n",
    "     metric = \"classification_error\")"
   ]
  },
  {
   "cell_type": "markdown",
   "metadata": {},
   "source": [
    "## Sumary\n",
    "\n",
    "* H2O is easy to use\n",
    "* Off-the-shelf algorithms\n",
    "* FLOW API is targeted to users who prefer GUIs or have basic coding experience\n",
    "* Extern libraries/packages can be added by using Python and R\n",
    "    * Data analysis and pre-processing"
   ]
  },
  {
   "cell_type": "code",
   "execution_count": null,
   "metadata": {},
   "outputs": [],
   "source": [
    "h2o.shutdown()"
   ]
  }
 ],
 "metadata": {
  "kernelspec": {
   "display_name": "R",
   "language": "R",
   "name": "ir"
  },
  "language_info": {
   "codemirror_mode": "r",
   "file_extension": ".r",
   "mimetype": "text/x-r-source",
   "name": "R",
   "pygments_lexer": "r",
   "version": "3.4.2"
  }
 },
 "nbformat": 4,
 "nbformat_minor": 2
}
