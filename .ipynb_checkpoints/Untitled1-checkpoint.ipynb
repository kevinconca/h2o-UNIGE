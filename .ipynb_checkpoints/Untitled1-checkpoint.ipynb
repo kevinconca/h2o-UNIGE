{
 "cells": [
  {
   "cell_type": "markdown",
   "metadata": {},
   "source": [
    "# Machine Learning: Machine Learning tools\n",
    "### Unige\n",
    "\n",
    "#### Kevin Raymundo Serrano Vilchis \n",
    "#### S4539351"
   ]
  },
  {
   "cell_type": "markdown",
   "metadata": {},
   "source": [
    "### Overview\n",
    "\n",
    "* Introduction H2O\n",
    "* Architechture\n",
    "* Setup H2O\n",
    "* FLOW API\n",
    "* H2O using Python\n",
    "* Summary"
   ]
  },
  {
   "cell_type": "markdown",
   "metadata": {},
   "source": [
    "## Introduction"
   ]
  },
  {
   "cell_type": "markdown",
   "metadata": {},
   "source": [
    "![Community](https://www.h2o.ai/wp-content/uploads/2016/09/community_hero-1.png)"
   ]
  },
  {
   "cell_type": "markdown",
   "metadata": {},
   "source": [
    "## Architecture"
   ]
  },
  {
   "cell_type": "markdown",
   "metadata": {},
   "source": [
    "![Software](https://www.h2o.ai/wp-content/uploads/2017/11/h2o-architecture-1.png)"
   ]
  },
  {
   "cell_type": "markdown",
   "metadata": {},
   "source": [
    "## Setup\n",
    "\n",
    "Prerequisites to launch H2O and Flow\n",
    "* 64 bit Java 6+"
   ]
  },
  {
   "cell_type": "markdown",
   "metadata": {},
   "source": [
    "### Flow users\n",
    "1. Download and unpack h2o zip file from website [link](http://h2o-release.s3.amazonaws.com/h2o/rel-wheeler/4/index.html)\n",
    "1. Run the following command from terminal \n",
    "```\n",
    "cd ~/Downloads\n",
    "unzip h2o-3.16.0.4.zip\n",
    "cd h2o-3.16.0.4\n",
    "java -jar h2o.jar\n",
    "```\n",
    "1. Point your browser to http://localhost:54321"
   ]
  },
  {
   "cell_type": "markdown",
   "metadata": {},
   "source": [
    "### R users\n",
    "1. Prerequisite: R installed (version 3 or later)\n",
    "1. Install from cran\n",
    "```\n",
    "install.packages(“statmod”)\n",
    "install.packages(“RCurl”)\n",
    "install.packages(“jsonlite”)\n",
    "install.packages(“h2o”)\n",
    "```\n",
    "1. Check that library is properly installed:\n",
    "```\n",
    "library(h2o)\n",
    "h2o.init(nthreads = -1)\n",
    "```"
   ]
  },
  {
   "cell_type": "markdown",
   "metadata": {},
   "source": [
    "### Python users\n",
    "1. Prerequisite: Python installed (versions 2.7.x, 3.5.x, 3.6.x)\n",
    "1. Using pip, install dependencies and h2o\n",
    "```\n",
    "pip install requests\n",
    "pip install tabulate\n",
    "pip install futures\n",
    "pip install six\n",
    "pip install h2o\n",
    "```\n",
    "1. Check that library is properly installed:\n",
    "```\n",
    "import h2o\n",
    "h2o.init(nthreads = -1)\n",
    "```"
   ]
  },
  {
   "cell_type": "code",
   "execution_count": 1,
   "metadata": {},
   "outputs": [
    {
     "name": "stdout",
     "output_type": "stream",
     "text": [
      "Checking whether there is an H2O instance running at http://localhost:54321..... not found.\n",
      "Attempting to start a local H2O server...\n",
      "  Java Version: openjdk version \"1.8.0_152-release\"; OpenJDK Runtime Environment (build 1.8.0_152-release-1056-b12); OpenJDK 64-Bit Server VM (build 25.152-b12, mixed mode)\n",
      "  Starting server from /home/kevin/anaconda3/lib/python3.6/site-packages/h2o/backend/bin/h2o.jar\n",
      "  Ice root: /tmp/tmpvfg2kds4\n",
      "  JVM stdout: /tmp/tmpvfg2kds4/h2o_kevin_started_from_python.out\n",
      "  JVM stderr: /tmp/tmpvfg2kds4/h2o_kevin_started_from_python.err\n",
      "  Server is running at http://127.0.0.1:54321\n",
      "Connecting to H2O server at http://127.0.0.1:54321... successful.\n"
     ]
    },
    {
     "data": {
      "text/html": [
       "<div style=\"overflow:auto\"><table style=\"width:50%\"><tr><td>H2O cluster uptime:</td>\n",
       "<td>04 secs</td></tr>\n",
       "<tr><td>H2O cluster version:</td>\n",
       "<td>3.16.0.4</td></tr>\n",
       "<tr><td>H2O cluster version age:</td>\n",
       "<td>21 days, 4 hours and 30 minutes </td></tr>\n",
       "<tr><td>H2O cluster name:</td>\n",
       "<td>H2O_from_python_kevin_3i7ybv</td></tr>\n",
       "<tr><td>H2O cluster total nodes:</td>\n",
       "<td>1</td></tr>\n",
       "<tr><td>H2O cluster free memory:</td>\n",
       "<td>1.712 Gb</td></tr>\n",
       "<tr><td>H2O cluster total cores:</td>\n",
       "<td>4</td></tr>\n",
       "<tr><td>H2O cluster allowed cores:</td>\n",
       "<td>4</td></tr>\n",
       "<tr><td>H2O cluster status:</td>\n",
       "<td>accepting new members, healthy</td></tr>\n",
       "<tr><td>H2O connection url:</td>\n",
       "<td>http://127.0.0.1:54321</td></tr>\n",
       "<tr><td>H2O connection proxy:</td>\n",
       "<td>None</td></tr>\n",
       "<tr><td>H2O internal security:</td>\n",
       "<td>False</td></tr>\n",
       "<tr><td>H2O API Extensions:</td>\n",
       "<td>XGBoost, Algos, AutoML, Core V3, Core V4</td></tr>\n",
       "<tr><td>Python version:</td>\n",
       "<td>3.6.4 final</td></tr></table></div>"
      ],
      "text/plain": [
       "--------------------------  ----------------------------------------\n",
       "H2O cluster uptime:         04 secs\n",
       "H2O cluster version:        3.16.0.4\n",
       "H2O cluster version age:    21 days, 4 hours and 30 minutes\n",
       "H2O cluster name:           H2O_from_python_kevin_3i7ybv\n",
       "H2O cluster total nodes:    1\n",
       "H2O cluster free memory:    1.712 Gb\n",
       "H2O cluster total cores:    4\n",
       "H2O cluster allowed cores:  4\n",
       "H2O cluster status:         accepting new members, healthy\n",
       "H2O connection url:         http://127.0.0.1:54321\n",
       "H2O connection proxy:\n",
       "H2O internal security:      False\n",
       "H2O API Extensions:         XGBoost, Algos, AutoML, Core V3, Core V4\n",
       "Python version:             3.6.4 final\n",
       "--------------------------  ----------------------------------------"
      ]
     },
     "metadata": {},
     "output_type": "display_data"
    }
   ],
   "source": [
    "import h2o\n",
    "h2o.init(nthreads = -1)"
   ]
  },
  {
   "cell_type": "code",
   "execution_count": null,
   "metadata": {},
   "outputs": [],
   "source": []
  }
 ],
 "metadata": {
  "kernelspec": {
   "display_name": "Python 3",
   "language": "python",
   "name": "python3"
  },
  "language_info": {
   "codemirror_mode": {
    "name": "ipython",
    "version": 3
   },
   "file_extension": ".py",
   "mimetype": "text/x-python",
   "name": "python",
   "nbconvert_exporter": "python",
   "pygments_lexer": "ipython3",
   "version": "3.6.4"
  }
 },
 "nbformat": 4,
 "nbformat_minor": 2
}
